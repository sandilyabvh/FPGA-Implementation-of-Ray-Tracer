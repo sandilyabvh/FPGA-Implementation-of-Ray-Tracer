{
 "cells": [
  {
   "cell_type": "code",
   "execution_count": 5,
   "id": "aea0dae8",
   "metadata": {},
   "outputs": [
    {
     "name": "stdout",
     "output_type": "stream",
     "text": [
      "Execution time 843 us\n",
      "[SUCCESS] Ray Intersection Found!!!!!\n",
      "Calculated Intersection Index:  5180\n",
      "IP Verification: PASS\n"
     ]
    }
   ],
   "source": [
    "import numpy as np \n",
    "from pynq import MMIO\n",
    "import pynq\n",
    "import data\n",
    "from datetime import datetime\n",
    "\n",
    "resultInteresectionIndex = 5180\n",
    "overlay = pynq.Overlay('intersect.bit')\n",
    "top_ip = overlay.rayTriangleIntersect_0\n",
    "top_ip.signature\n",
    "\n",
    "dirptr = data.dir_Buffer.physical_address\n",
    "p1ptr = data.P1_Buffer.physical_address\n",
    "p2ptr = data.P2_Buffer.physical_address\n",
    "p3ptr = data.P3_Buffer.physical_address\n",
    "resultptr = data.result.physical_address\n",
    "\n",
    "top_ip.write(0x10, dirptr)\n",
    "top_ip.write(0x1c, p1ptr)\n",
    "top_ip.write(0x28, p2ptr)\n",
    "top_ip.write(0x34, p3ptr)\n",
    "top_ip.write(0x40, resultptr)\n",
    "\n",
    "top_ip.write(0x00, 1)\n",
    "isready = top_ip.read(0x00)\n",
    "\n",
    "# Time the kernel execution\n",
    "exe_start = datetime.now() \n",
    "\n",
    "while( isready == 1):\n",
    "    isready = top_ip.read(0x00)\n",
    "\n",
    "exe_end = datetime.now()\n",
    "time_diff = exe_end - exe_start\n",
    "print(\"Execution time\", time_diff.microseconds, \"us\")\n",
    "\n",
    "if data.result[0] != -1: \n",
    "    print(\"[SUCCESS] Ray Intersection Found!!!!!\") \n",
    "    calculatedIntersectionIndex = data._to_int (data.result[0])\n",
    "    print(\"Calculated Intersection Index: \", calculatedIntersectionIndex)\n",
    "\n",
    "    if calculatedIntersectionIndex == resultInteresectionIndex:\n",
    "        print(\"IP Verification: PASS\")\n",
    "    else:\n",
    "        print(\"IP Verification: FAIL\")\n",
    "else:\n",
    "    print(\"[FAIL]: Intersection not Found :(\")"
   ]
  },
  {
   "cell_type": "code",
   "execution_count": null,
   "id": "f23b63b7",
   "metadata": {},
   "outputs": [],
   "source": []
  }
 ],
 "metadata": {
  "kernelspec": {
   "display_name": "Python 3",
   "language": "python",
   "name": "python3"
  },
  "language_info": {
   "codemirror_mode": {
    "name": "ipython",
    "version": 3
   },
   "file_extension": ".py",
   "mimetype": "text/x-python",
   "name": "python",
   "nbconvert_exporter": "python",
   "pygments_lexer": "ipython3",
   "version": "3.8.2"
  }
 },
 "nbformat": 4,
 "nbformat_minor": 5
}
